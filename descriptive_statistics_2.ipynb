{
 "cells": [
  {
   "cell_type": "markdown",
   "metadata": {},
   "source": [
    "# Investigation of flight delays in San Francisco with focus on American Airlines."
   ]
  },
  {
   "cell_type": "code",
   "execution_count": null,
   "metadata": {},
   "outputs": [],
   "source": [
    "# import packages\n",
    "import os # file handling\n",
    "import sqlite3 # database handling\n",
    "import pandas as pd # data handling\n",
    "import matplotlib.pyplot as plt # plotting\n",
    "import seaborn as sns # plotting\n",
    "\n",
    "import db_params # holds information about the database path\n",
    "\n"
   ]
  },
  {
   "cell_type": "code",
   "execution_count": null,
   "metadata": {},
   "outputs": [],
   "source": [
    "# set the background color of figures white\n",
    "plt.rcParams.update({'figure.facecolor':'white'})\n",
    "\n",
    "# increase fontsize of figures\n",
    "sns.set_context(\"talk\")\n",
    "\n",
    "# define resolution\n",
    "res_dpi = 600\n",
    "\n",
    "# make path for saving figures\n",
    "fig_path = \"figures\"\n",
    "\n",
    "if not os.path.exists(fig_path):\n",
    "    os.mkdir(fig_path)\n",
    "\n",
    "fig_counter = 1"
   ]
  },
  {
   "cell_type": "markdown",
   "metadata": {},
   "source": [
    "As the focus is on San Francisco, we can first have brief look on the airport situation there."
   ]
  },
  {
   "cell_type": "code",
   "execution_count": null,
   "metadata": {},
   "outputs": [],
   "source": [
    "# we are interested in the flights from San Francisco\n",
    "city_of_interest = 'San Francisco, CA'\n",
    "\n",
    "# connect to the database\n",
    "conn = sqlite3.connect(os.path.join(db_params.DB_PATH, db_params.DB_NAME))\n",
    "crsr = conn.cursor()\n",
    "\n",
    "# get airport ID and code\n",
    "crsr.execute(\"SELECT AirportID FROM airports WHERE CityName=?\", (city_of_interest,))\n",
    "sf_airport_IDs = crsr.fetchone()\n",
    "crsr.execute(\"SELECT Airport FROM airports WHERE CityName=?\", (city_of_interest,))\n",
    "sf_airport = crsr.fetchone()\n",
    "\n",
    "# print amount of found airports, airport ID and code\n",
    "if len(sf_airport_IDs) == 1:\n",
    "    print(f\"Found {len(sf_airport_IDs)} airport in {city_of_interest}.\")\n",
    "    print(f\"It's code is '{sf_airport[0]}'.\")\n",
    "else:\n",
    "    print(f\"Found {len(sf_airport_IDs)} airports in {city_of_interest}.\")\n",
    "    print(f\"Their codes are {sf_airport}.\")\n",
    "\n",
    "\n",
    "sf_airport_id = sf_airport_IDs[0]\n",
    "sf_airport = sf_airport[0]\n",
    "print(f\"San Francisco Airport ID: {sf_airport_id}\")"
   ]
  },
  {
   "cell_type": "markdown",
   "metadata": {},
   "source": [
    "There is only one Airport and we can use the ID to identify it later on."
   ]
  },
  {
   "cell_type": "code",
   "execution_count": null,
   "metadata": {},
   "outputs": [],
   "source": [
    "# define columns from the flight table of the database that could be interesting\n",
    "cols =[\n",
    "    \"FlightDate\",\n",
    "    \"Reporting_Airline\",\n",
    "    \"DestAirportID\",\n",
    "    \"ArrDelayMinutes\",\n",
    "    \"Cancelled\",\n",
    "    \"CancellationCode\",\n",
    "    \"Diverted\",\n",
    "    \"CarrierDelay\",\n",
    "    \"WeatherDelay\",\n",
    "    \"NASDelay\",\n",
    "    \"SecurityDelay\",\n",
    "    \"LateAircraftDelay\",\n",
    "]\n",
    "\n",
    "# make string and separate the column names with commas\n",
    "query_cols = \"\"\n",
    "for col in cols:\n",
    "    query_cols = query_cols + f\"{col}, \"\n",
    "query_cols = query_cols[:-2]\n",
    "\n",
    "# query tha database and get data that might be helpful to understand flight delays\n",
    "query = f\"\"\"\n",
    "    SELECT {query_cols}, Month, DayOfWeek, DayOfWeek_str, DestAirport\n",
    "    FROM (\n",
    "        SELECT *\n",
    "        FROM flights \n",
    "        LEFT JOIN (\n",
    "            SELECT FlightDate AS f_d, Month, DayOfWeek, Description AS DayOfWeek_str \n",
    "            FROM time_period\n",
    "            LEFT JOIN L_WEEKDAYS\n",
    "            ON time_period.DayOfWeek = L_WEEKDAYS.Code\n",
    "        ) time_table\n",
    "        ON flights.FlightDate = time_table.f_d\n",
    "        WHERE OriginAirportID = {sf_airport_id}\n",
    "    ) data\n",
    "    LEFT JOIN (\n",
    "        SELECT Code, Description AS Cancellation_Cause \n",
    "        FROM L_CANCELLATION\n",
    "    ) cancellation\n",
    "    ON data.CancellationCode = cancellation.Code\n",
    "    LEFT JOIN (\n",
    "        SELECT AirportID, Airport AS DestAirport\n",
    "        FROM airports\n",
    "    ) airports_enc\n",
    "    ON data.DestAirportID = airports_enc.AirportID\n",
    "\"\"\"\n",
    "\n",
    "# read the data into a dataframe for later use\n",
    "df_sf_orig = pd.read_sql(\n",
    "    query,\n",
    "    conn\n",
    ")\n"
   ]
  },
  {
   "cell_type": "code",
   "execution_count": null,
   "metadata": {},
   "outputs": [],
   "source": [
    "# show random rows to control the dataframe \n",
    "df_sf_orig.sample(5)"
   ]
  },
  {
   "cell_type": "markdown",
   "metadata": {},
   "source": [
    "# Airlines wit departure at SFO"
   ]
  },
  {
   "cell_type": "markdown",
   "metadata": {},
   "source": [
    "As we are interested in flight delays in departure, we can check how many and which airlines offer flights from SFO."
   ]
  },
  {
   "cell_type": "code",
   "execution_count": null,
   "metadata": {},
   "outputs": [],
   "source": [
    "# get all airlines with departure in SF\n",
    "query = f\"\"\"\n",
    "      SELECT DISTINCT Reporting_Airline\n",
    "      FROM flights\n",
    "      WHERE OriginAirportID = {sf_airport_id}\n",
    "\n",
    "\"\"\"\n",
    "crsr.execute(query)\n",
    "airlines = [airline[0] for airline in crsr.fetchall()]\n",
    "print(f\"There are {len(airlines)} departuring from {sf_airport}.\")\n",
    "print(f\"Airlines: {airlines}\")"
   ]
  },
  {
   "cell_type": "code",
   "execution_count": null,
   "metadata": {},
   "outputs": [],
   "source": [
    "df_sf_orig_airlines = df_sf_orig.copy()\n",
    "df_sf_orig_airlines[\"Count\"] = 1\n",
    "df_sf_orig_airlines = df_sf_orig_airlines.groupby(\"Reporting_Airline\").sum().\\\n",
    "    reset_index().sort_values(\"Count\", ascending=False)\n",
    "df_sf_orig_airlines"
   ]
  },
  {
   "cell_type": "code",
   "execution_count": null,
   "metadata": {},
   "outputs": [],
   "source": [
    "plt.figure(figsize=(10, 5))\n",
    "\n",
    "g=sns.barplot(\n",
    "        data=df_sf_orig_airlines, \n",
    "        x=\"Reporting_Airline\", \n",
    "        y=\"Count\",\n",
    "        palette=[sns.color_palette()[0] if al!='AA' else sns.color_palette()[3] for al in df_sf_orig_airlines[\"Reporting_Airline\"]]\n",
    ")\n",
    "g.set_ylabel(\"Flights in 2019 from SFO\")\n",
    "g.set_xlabel(\"Airline\")\n",
    "plt.savefig(\n",
    "        os.path.join(fig_path, f\"{f'0{fig_counter}'[-2:]}_flights_per_airline\"), \n",
    "        dpi=res_dpi, \n",
    "        format=None, \n",
    "        metadata=None,\n",
    "        bbox_inches='tight', \n",
    "        pad_inches=0.1,\n",
    "        facecolor='auto', \n",
    "        edgecolor='auto',\n",
    "        backend=None\n",
    ")\n",
    "\n",
    "fig_counter += 1"
   ]
  },
  {
   "cell_type": "markdown",
   "metadata": {},
   "source": [
    "# Cause of delay"
   ]
  },
  {
   "cell_type": "markdown",
   "metadata": {},
   "source": [
    "In this dataset, there are several causes of delay listed. Those are Carrier Delay, Weather Delay, National Air System (NAS) Delay, Security Delay and Late Aircraft Delay. To get an idea, how and if airlines can imporve their service and avoiding delays, we can have a look at those delay causes and their impact on total delays."
   ]
  },
  {
   "cell_type": "markdown",
   "metadata": {},
   "source": [
    "## Amount of Delays per Cause"
   ]
  },
  {
   "cell_type": "code",
   "execution_count": null,
   "metadata": {},
   "outputs": [],
   "source": [
    "causes_of_delay_counts = {}\n",
    "\n",
    "# define column names with causes of delay\n",
    "causes_of_delay = [\"CarrierDelay\", \"WeatherDelay\", \"NASDelay\", \"SecurityDelay\", \"LateAircraftDelay\"]\n",
    "\n",
    "# query for each cause and find the amount of delays\n",
    "for cause in causes_of_delay:\n",
    "    # make query\n",
    "    query = f\"\"\"\n",
    "        SELECT COUNT({cause}) \n",
    "        FROM flights\n",
    "        WHERE OriginAirportID = {sf_airport_id} AND NOT {cause}=0\n",
    "    \"\"\"\n",
    "    # execute query\n",
    "    crsr.execute(query)\n",
    "\n",
    "    # get results of the query\n",
    "    causes_of_delay_counts[cause], = crsr.fetchone()\n",
    "\n",
    "# sort results by value\n",
    "causes_of_delay_counts = dict(sorted(causes_of_delay_counts.items(), key=lambda x:x[1], reverse=True)) \n",
    "causes_of_delay_counts"
   ]
  },
  {
   "cell_type": "code",
   "execution_count": null,
   "metadata": {},
   "outputs": [],
   "source": [
    "# define figure size\n",
    "plt.figure(figsize=(10, 5))\n",
    "# make a barplot from the dictionary causes_of_delay_counts using its keys and values\n",
    "g=sns.barplot(x=list(causes_of_delay_counts.keys()), y=list(causes_of_delay_counts.values()), color=sns.color_palette()[0])\n",
    "\n",
    "g.set_xticklabels(\n",
    "        g.get_xticklabels(),\n",
    "        rotation=45,\n",
    "        ha=\"right\"\n",
    ")\n",
    "\n",
    "# set title and y-label\n",
    "# g.set_title(\"Amount of Delays per Delay Cause\")\n",
    "g.set_ylabel(\"Count\");\n",
    "\n",
    "plt.savefig(\n",
    "        os.path.join(fig_path, f\"{f'0{fig_counter}'[-2:]}_delays per cause\"), \n",
    "        dpi=res_dpi, \n",
    "        format=None, \n",
    "        metadata=None,\n",
    "        bbox_inches='tight', \n",
    "        pad_inches=0.1,\n",
    "        facecolor='auto', \n",
    "        edgecolor='auto',\n",
    "        backend=None\n",
    ")\n",
    "\n",
    "fig_counter += 1"
   ]
  },
  {
   "cell_type": "markdown",
   "metadata": {},
   "source": [
    "The bar chart shows that Security and Weather Delays don't happen often (<1000), whereas there were between 15000 and 20000 of each Late Aircraft Delay, NAS Delay and Carrier Delay."
   ]
  },
  {
   "cell_type": "markdown",
   "metadata": {},
   "source": [
    "## Average delay time per cause"
   ]
  },
  {
   "cell_type": "code",
   "execution_count": null,
   "metadata": {},
   "outputs": [],
   "source": [
    "causes_of_delay_avg = {}\n",
    "\n",
    "# query for each cause and find the avergage time delay\n",
    "for cause in causes_of_delay:\n",
    "    query = f\"\"\"\n",
    "        SELECT SUM({cause}) / COUNT({cause}) \n",
    "        FROM flights\n",
    "        WHERE OriginAirportID = {sf_airport_id} AND NOT {cause}=0 \n",
    "    \"\"\"\n",
    "    # execute and get results\n",
    "    crsr.execute(query)\n",
    "    causes_of_delay_avg[cause], = crsr.fetchone()\n",
    "\n",
    "# sort results by value\n",
    "causes_of_delay_avg = dict(sorted(causes_of_delay_avg.items(), key=lambda x:x[1], reverse=True)) \n",
    "causes_of_delay_avg"
   ]
  },
  {
   "cell_type": "code",
   "execution_count": null,
   "metadata": {},
   "outputs": [],
   "source": [
    "# define figure size\n",
    "plt.figure(figsize=(10, 5))\n",
    "# make a barplot from the dictionary causes_of_delay_avg using its keys and values\n",
    "g=sns.barplot(x=list(causes_of_delay_avg.keys()), y=list(causes_of_delay_avg.values()), color=sns.color_palette()[0])\n",
    "# set title and y-label\n",
    "# g.set_title(\"Average Delay Time per Delay Cause\")\n",
    "g.set_ylabel(\"Time in minutes\");\n",
    "\n",
    "g.set_xticklabels(\n",
    "        g.get_xticklabels(), \n",
    "        rotation=60, \n",
    "        ha=\"right\",\n",
    ")\n",
    "\n",
    "plt.savefig(\n",
    "        os.path.join(fig_path, f\"{f'0{fig_counter}'[-2:]}_avg_delay_per_cause\"), \n",
    "        dpi=res_dpi, \n",
    "        format=None, \n",
    "        metadata=None,\n",
    "        bbox_inches='tight', \n",
    "        pad_inches=0.1,\n",
    "        facecolor='auto', \n",
    "        edgecolor='auto',\n",
    "        backend=None\n",
    ")\n",
    "\n",
    "fig_counter += 1"
   ]
  },
  {
   "cell_type": "markdown",
   "metadata": {},
   "source": [
    "If there is a delay, then Weather Delays are the longest (on average about 100 minutes)."
   ]
  },
  {
   "cell_type": "markdown",
   "metadata": {},
   "source": [
    "## Average Delay of Carriers"
   ]
  },
  {
   "cell_type": "code",
   "execution_count": null,
   "metadata": {},
   "outputs": [],
   "source": [
    "# get the average delay per airline\n",
    "query = f\"\"\"\n",
    "    SELECT Reporting_Airline, AVG(ArrDelayMinutes)\n",
    "    FROM flights \n",
    "    WHERE OriginAirportID = {sf_airport_id}\n",
    "    GROUP BY Reporting_Airline\n",
    "    ORDER BY AVG(ArrDelayMinutes) DESC\n",
    "\"\"\"\n",
    "crsr.execute(query)\n",
    "delay_all_avg_airlines_per_flight = crsr.fetchall()\n",
    "\n",
    "delay_all_avg_airlines_per_flight"
   ]
  },
  {
   "cell_type": "code",
   "execution_count": null,
   "metadata": {},
   "outputs": [],
   "source": [
    "# define figure size\n",
    "plt.figure(figsize=(10, 5))\n",
    "# make a barplot from the results of the query\n",
    "airl = [al[0] for al in delay_all_avg_airlines_per_flight]\n",
    "g=sns.barplot(\n",
    "    x=[airl[1] for airl in delay_all_avg_airlines_per_flight], \n",
    "    y=airl, \n",
    "    palette=[sns.color_palette()[0] if al!='AA' else sns.color_palette()[3] for al in airl]\n",
    ")\n",
    "# set title, x- and y-label\n",
    "# g.set_title(\"Average Delay per Airline per Flight\")\n",
    "g.set_xlabel(\"Time in minutes\")\n",
    "g.set_ylabel(\"Airlines\");\n",
    "\n",
    "plt.savefig(\n",
    "        os.path.join(fig_path, f\"{f'0{fig_counter}'[-2:]}_avg_delay_per_airline_and_flight\"), \n",
    "        dpi=res_dpi, \n",
    "        format=None, \n",
    "        metadata=None,\n",
    "        bbox_inches='tight', \n",
    "        pad_inches=0.1,\n",
    "        facecolor='auto', \n",
    "        edgecolor='auto',\n",
    "        backend=None\n",
    ")\n",
    "\n",
    "fig_counter += 1"
   ]
  },
  {
   "cell_type": "markdown",
   "metadata": {},
   "source": [
    "Comparing the average delay of carriers per flight shows, that there are recognizable differences. Focusing on American shows that there are three airlines with higher average delay and five with lower. The best airlines has 12 minutes delay on average, the worst 26 minutes. American Airline has 17 minutes average delay."
   ]
  },
  {
   "cell_type": "markdown",
   "metadata": {},
   "source": [
    "## Delay Causes of American Airlines"
   ]
  },
  {
   "cell_type": "code",
   "execution_count": null,
   "metadata": {},
   "outputs": [],
   "source": [
    "causes_of_delay_avg_AA = {}\n",
    "\n",
    "# query for each cause and find the avergage time delay\n",
    "for cause in causes_of_delay:\n",
    "    query = f\"\"\"\n",
    "        SELECT SUM({cause}) / COUNT({cause}), SUM({cause}), COUNT({cause})\n",
    "        FROM flights\n",
    "        WHERE OriginAirportID = {sf_airport_id} AND NOT {cause}=0 AND Reporting_Airline = 'AA'\n",
    "    \"\"\"\n",
    "    # execute and get results\n",
    "    crsr.execute(query)\n",
    "    causes_of_delay_avg_AA[cause] = crsr.fetchone()\n",
    "\n",
    "# sort results by value\n",
    "causes_of_delay_avg_AA = dict(sorted(causes_of_delay_avg_AA.items(), key=lambda x:x[1], reverse=True)) \n",
    "causes_of_delay_avg_AA"
   ]
  },
  {
   "cell_type": "code",
   "execution_count": null,
   "metadata": {},
   "outputs": [],
   "source": [
    "def colors(delay):\n",
    "    color = {\n",
    "        \"LateAircraftDelay\": sns.color_palette()[0],\n",
    "        \"CarrierDelay\": sns.color_palette()[1],\n",
    "        \"NASDelay\": sns.color_palette()[2],\n",
    "        \"SecurityDelay\": sns.color_palette()[3],\n",
    "        \"WeatherDelay\": sns.color_palette()[4],\n",
    "    }\n",
    "    return color[delay]\n",
    "\n",
    "delays = [\n",
    "    \"LateAircraftDelay\",\n",
    "    \"CarrierDelay\",\n",
    "    \"NASDelay\",\n",
    "    \"SecurityDelay\",\n",
    "    \"WeatherDelay\",\n",
    "]\n",
    "\n",
    "# define figure size\n",
    "fig, ax = plt.subplots(1, 3, figsize=(10, 5))\n",
    "for i in range(3):\n",
    "# make a barplot from the dictionary causes_of_delay_avg using its keys and values\n",
    "    sns.barplot(\n",
    "        x=list(causes_of_delay_avg_AA.keys()), \n",
    "        y=[val[i] for val in list(causes_of_delay_avg_AA.values())], \n",
    "        # color=sns.color_palette()[0],\n",
    "        palette=[colors(delay) for delay in delays],\n",
    "            # sns.color_palette()[0] if cause=='LateAircraftDelay' else sns.color_palette()[3] for cause in list(causes_of_delay_avg_AA.keys())\n",
    "            # sns.color_palette()[1] if cause!='AA' else sns.color_palette()[3] for cause in list(causes_of_delay_avg_AA.keys())\n",
    "            # sns.color_palette()[2] if cause!='AA' else sns.color_palette()[3] for cause in list(causes_of_delay_avg_AA.keys())\n",
    "            # sns.color_palette()[3] if cause!='AA' else sns.color_palette()[3] for cause in list(causes_of_delay_avg_AA.keys())\n",
    "            # sns.color_palette()[4] if cause!='AA' else sns.color_palette()[3] for cause in list(causes_of_delay_avg_AA.keys())\n",
    "            # ],\n",
    "        ax=ax[i]\n",
    "    )\n",
    "    ax[i].set_xticklabels(\n",
    "        ax[i].get_xticklabels(), \n",
    "        rotation=60,\n",
    "        ha=\"right\",\n",
    "        rotation_mode=\"anchor\",\n",
    "    )\n",
    "\n",
    "\n",
    "# set title and y-label\n",
    "# plt.suptitle(\"Delay Causes of American Airlines Flights\", fontsize=20)\n",
    "ax[0].set_ylabel(\"Average Delay in minutes\")\n",
    "ax[1].set_ylabel(\"Sum of Delays in minutes\")\n",
    "ax[2].set_ylabel(\"Amount of Delays\")\n",
    "plt.tight_layout();\n",
    "\n",
    "plt.savefig(\n",
    "        os.path.join(fig_path, f\"{f'0{fig_counter}'[-2:]}_aa_delays_causes\"), \n",
    "        dpi=res_dpi, \n",
    "        format=None, \n",
    "        metadata=None,\n",
    "        bbox_inches='tight', \n",
    "        pad_inches=0.1,\n",
    "        facecolor='auto', \n",
    "        edgecolor='auto',\n",
    "        backend=None\n",
    ")\n",
    "\n",
    "fig_counter += 1"
   ]
  },
  {
   "cell_type": "markdown",
   "metadata": {},
   "source": [
    "For American Airlines the occurence of delays is very close to what we observed before for all airlines: \n",
    "* Security and Weather Delays don't happen often.\n",
    "* Aircraft Delays are the occuring the most.\n",
    "* And Carrier and NAS Delays are a little bit less than Late Aircraft Delays.\n",
    "\n",
    "The Delay durations however differe from the averages shown above:\n",
    "* Weather Delays were quite short. Since the airlines can't influence that, it's not that interesting.\n",
    "* The other Delays causes behave quite similar to the average.\n",
    "* Carrier Delays were longer than average. AA: 54 minutes, average all airlines: 46 minutes. Since this is the only cause that can be tackeled in San Francisco, we focus on **Carrier Delay**."
   ]
  },
  {
   "cell_type": "markdown",
   "metadata": {},
   "source": [
    "# Carriers: late aircraft delay only"
   ]
  },
  {
   "cell_type": "code",
   "execution_count": null,
   "metadata": {},
   "outputs": [],
   "source": [
    "# query for the average delay per carrier considering carrier delay only\n",
    "query = f\"\"\"\n",
    "    SELECT Reporting_Airline, SUM(LateAircraftDelay) / COUNT(*)\n",
    "    FROM flights \n",
    "    WHERE OriginAirportID = {sf_airport_id}\n",
    "    GROUP BY Reporting_Airline\n",
    "    ORDER BY SUM(LateAircraftDelay) / COUNT(*) DESC\n",
    "\"\"\"\n",
    "crsr.execute(query)\n",
    "delay_avg_airlines_per_flight = crsr.fetchall()\n"
   ]
  },
  {
   "cell_type": "code",
   "execution_count": null,
   "metadata": {},
   "outputs": [],
   "source": [
    "delay_avg_airlines_per_flight"
   ]
  },
  {
   "cell_type": "code",
   "execution_count": null,
   "metadata": {},
   "outputs": [],
   "source": [
    "# define figure size\n",
    "plt.figure(figsize=(10, 5))\n",
    "# make a barplot from the results of the query\n",
    "airl = [al[0] for al in delay_avg_airlines_per_flight]\n",
    "g=sns.barplot(\n",
    "    x=[airl[1] for airl in delay_avg_airlines_per_flight], \n",
    "    y=airl, \n",
    "    palette=[sns.color_palette()[0] if al!='AA' else sns.color_palette()[3] for al in airl]\n",
    ")\n",
    "# set title, x- and y-label\n",
    "# g.set_title(\"Average Delay per Airline per Flight (carrier delay only)\")\n",
    "g.set_xlabel(\"Time in minutes\")\n",
    "g.set_ylabel(\"Airlines\");\n",
    "\n",
    "plt.savefig(\n",
    "        os.path.join(fig_path, f\"{f'0{fig_counter}'[-2:]}_carrier_avg_lateaircraftdelay_per_airline_and_flight\"), \n",
    "        dpi=res_dpi, \n",
    "        format=None, \n",
    "        metadata=None,\n",
    "        bbox_inches='tight', \n",
    "        pad_inches=0.1,\n",
    "        facecolor='auto', \n",
    "        edgecolor='auto',\n",
    "        backend=None\n",
    ")\n",
    "\n",
    "fig_counter += 1"
   ]
  },
  {
   "cell_type": "markdown",
   "metadata": {},
   "source": [
    "# Carriers: carrier delay only"
   ]
  },
  {
   "cell_type": "markdown",
   "metadata": {},
   "source": [
    "## Average delay per carrier"
   ]
  },
  {
   "cell_type": "markdown",
   "metadata": {},
   "source": [
    "Next, we will have a closer look at Carrier Delays and compare airlines."
   ]
  },
  {
   "cell_type": "code",
   "execution_count": null,
   "metadata": {},
   "outputs": [],
   "source": [
    "# query for the average delay per carrier considering carrier delay only\n",
    "query = f\"\"\"\n",
    "    SELECT Reporting_Airline, SUM(CarrierDelay) / COUNT(*)\n",
    "    FROM flights \n",
    "    WHERE OriginAirportID = {sf_airport_id}\n",
    "    GROUP BY Reporting_Airline\n",
    "    ORDER BY SUM(CarrierDelay) / COUNT(*) DESC\n",
    "\"\"\"\n",
    "crsr.execute(query)\n",
    "delay_avg_airlines_per_flight = crsr.fetchall()\n"
   ]
  },
  {
   "cell_type": "code",
   "execution_count": null,
   "metadata": {},
   "outputs": [],
   "source": [
    "delay_avg_airlines_per_flight"
   ]
  },
  {
   "cell_type": "code",
   "execution_count": null,
   "metadata": {},
   "outputs": [],
   "source": [
    "airl = [al[0] for al in delay_avg_airlines_per_flight]\n",
    "airl"
   ]
  },
  {
   "cell_type": "code",
   "execution_count": null,
   "metadata": {},
   "outputs": [],
   "source": [
    "# define figure size\n",
    "plt.figure(figsize=(10, 5))\n",
    "# make a barplot from the results of the query\n",
    "airl = [al[0] for al in delay_avg_airlines_per_flight]\n",
    "g=sns.barplot(\n",
    "    x=[airl[1] for airl in delay_avg_airlines_per_flight], \n",
    "    y=airl, \n",
    "    palette=[sns.color_palette()[0] if al!='AA' else sns.color_palette()[3] for al in airl]\n",
    ")\n",
    "# set title, x- and y-label\n",
    "# g.set_title(\"Average Delay per Airline per Flight (carrier delay only)\")\n",
    "g.set_xlabel(\"Time in minutes\")\n",
    "g.set_ylabel(\"Airlines\");\n",
    "\n",
    "plt.savefig(\n",
    "        os.path.join(fig_path, f\"{f'0{fig_counter}'[-2:]}_carrier_avg_delay_per_airline_and_flight\"), \n",
    "        dpi=res_dpi, \n",
    "        format=None, \n",
    "        metadata=None,\n",
    "        bbox_inches='tight', \n",
    "        pad_inches=0.1,\n",
    "        facecolor='auto', \n",
    "        edgecolor='auto',\n",
    "        backend=None\n",
    ")\n",
    "\n",
    "fig_counter += 1"
   ]
  },
  {
   "cell_type": "markdown",
   "metadata": {},
   "source": [
    "The ranking is the same as when all delay causes were considered.\n",
    "* F9: worst with > 11 minutes carrier delay per flight\n",
    "* WN: best with ~ 2 minutes carrier delay per flight\n",
    "* AA: in the midfieled with 5.5 minutes average carrier delay. "
   ]
  },
  {
   "cell_type": "markdown",
   "metadata": {},
   "source": [
    "## Median delay per carrier"
   ]
  },
  {
   "cell_type": "markdown",
   "metadata": {},
   "source": [
    "Next median and mode are calculated to get a better understanding of the distributions."
   ]
  },
  {
   "cell_type": "code",
   "execution_count": null,
   "metadata": {},
   "outputs": [],
   "source": [
    "# calcualte the mean for those airlines\n",
    "# derived from the answer of user 'CL.' at https://stackoverflow.com/questions/15763965/how-can-i-calculate-the-median-of-values-in-sqlite\n",
    "delay_median_airlines = {}\n",
    "\n",
    "for airline in airlines:\n",
    "      query = f\"\"\"\n",
    "      SELECT AVG(CarrierDelay)\n",
    "      FROM (\n",
    "            SELECT CarrierDelay\n",
    "            FROM flights WHERE OriginAirportID = {sf_airport_id} AND Reporting_Airline='{airline}'\n",
    "            ORDER BY CarrierDelay\n",
    "            LIMIT 2 - (\n",
    "                  SELECT COUNT(*) \n",
    "                  FROM flights \n",
    "                  WHERE OriginAirportID = {sf_airport_id} AND Reporting_Airline='{airline}'\n",
    "            ) % 2    -- get 1 value, if odd amount, else 2\n",
    "            OFFSET (\n",
    "                  SELECT (COUNT(*) - 1) / 2\n",
    "                  FROM flights \n",
    "                  WHERE OriginAirportID = {sf_airport_id} AND Reporting_Airline='{airline}'\n",
    "            ) -- start in the middle of the data\n",
    "      )\n",
    "      \"\"\"\n",
    "      crsr.execute(query)\n",
    "      delay_median_airlines[airline], = crsr.fetchone()\n"
   ]
  },
  {
   "cell_type": "markdown",
   "metadata": {},
   "source": [
    "The median Carrier Delay for all airlines is None, respectively 0. That means that at least half of the flights of the airlines had no Carrier Delay. "
   ]
  },
  {
   "cell_type": "markdown",
   "metadata": {},
   "source": [
    "## Mode of delay per carrier"
   ]
  },
  {
   "cell_type": "code",
   "execution_count": null,
   "metadata": {},
   "outputs": [],
   "source": [
    "delay_mode_airlines = {}\n",
    "\n",
    "# calculate the mode of delay per airline\n",
    "for airline in airlines:\n",
    "    query = f\"\"\"\n",
    "        SELECT CarrierDelay\n",
    "        FROM flights\n",
    "        WHERE OriginAirportID = {sf_airport_id} AND Reporting_Airline='{airline}'\n",
    "        GROUP BY CarrierDelay\n",
    "        \n",
    "    \"\"\"\n",
    "    crsr.execute(query)\n",
    "    delay_mode_airlines[airline], = crsr.fetchone()\n"
   ]
  },
  {
   "cell_type": "markdown",
   "metadata": {},
   "source": [
    "The mode of Carrier Delay for all airlines is None as well, respectively 0. That means that of all Carrier Delay occurences no delay was the most common. </br>\n",
    "Combining this knowledge, one can say that the distributions of the Carrier Delays of all airlines look similar. The have a sharp peek at 0 minutes, are right skewed as mean > mode."
   ]
  },
  {
   "cell_type": "markdown",
   "metadata": {},
   "source": [
    "## Carriers: cancelled flights"
   ]
  },
  {
   "cell_type": "markdown",
   "metadata": {},
   "source": [
    "In addition to delays, cancelled flights are also intersting because both being on time and arriving at all are important to customers."
   ]
  },
  {
   "cell_type": "code",
   "execution_count": null,
   "metadata": {},
   "outputs": [],
   "source": [
    "# get the percentage of cancelled flights per airline\n",
    "query = f\"\"\"\n",
    "    SELECT Reporting_Airline, SUM(Cancelled) / COUNT(*) * 100 AS percentage\n",
    "    FROM flights\n",
    "    WHERE OriginAirportID = {sf_airport_id} \n",
    "    GROUP BY Reporting_Airline\n",
    "    ORDER BY percentage DESC        \n",
    "\"\"\"\n",
    "crsr.execute(query)\n",
    "cancelled_airlines = crsr.fetchall()"
   ]
  },
  {
   "cell_type": "code",
   "execution_count": null,
   "metadata": {},
   "outputs": [],
   "source": [
    "# define figure size\n",
    "plt.figure(figsize=(10, 5))\n",
    "# make a barplot from the results of the query\n",
    "airl = [airl[0] for airl in cancelled_airlines]\n",
    "g=sns.barplot(\n",
    "    x=[airl[1] for airl in cancelled_airlines], \n",
    "    y=airl, \n",
    "    palette=[sns.color_palette()[0] if al!='AA' else sns.color_palette()[3] for al in airl]\n",
    ")\n",
    "# set title, x- and y-label\n",
    "# g.set_title(\"Percentage of cancelled flights per airline\")\n",
    "g.set_xlabel(\"Cancelled flights in %\")\n",
    "g.set_ylabel(\"Airlines\");\n",
    "\n",
    "plt.savefig(\n",
    "        os.path.join(fig_path, f\"{f'0{fig_counter}'[-2:]}_percentage_cancelled\"), \n",
    "        dpi=res_dpi, \n",
    "        format=None, \n",
    "        metadata=None,\n",
    "        bbox_inches='tight', \n",
    "        pad_inches=0.1,\n",
    "        facecolor='auto', \n",
    "        edgecolor='auto',\n",
    "        backend=None\n",
    ")\n",
    "\n",
    "fig_counter += 1"
   ]
  },
  {
   "cell_type": "markdown",
   "metadata": {},
   "source": [
    "Here again, two airlines perform worse and five better than American Airlines.\n",
    "* Three airlines managed to have less than 1 % cancelled flights.\n",
    "* 2.4 % of American Airlines flights were cancelled. </br>\n",
    "\n",
    "That shows that here as well preformance can be improved."
   ]
  },
  {
   "cell_type": "markdown",
   "metadata": {},
   "source": [
    "## Carriers: Cancellation causes"
   ]
  },
  {
   "cell_type": "markdown",
   "metadata": {},
   "source": [
    "Since there are cancellation causes airlines can't influence, a closer look can be helpful to evaluate the performance."
   ]
  },
  {
   "cell_type": "code",
   "execution_count": null,
   "metadata": {},
   "outputs": [],
   "source": [
    "# cancellation_causes = {}\n",
    "cancellation_causes = pd.DataFrame()\n",
    "# get the percantage of cancelations per cause\n",
    "\n",
    "for airline in airlines:\n",
    "    query = f\"\"\"\n",
    "        SELECT Reporting_Airline, Description, SUM(Cancelled) / (\n",
    "            SELECT COUNT(*) \n",
    "            FROM flights \n",
    "            WHERE OriginAirportID = {sf_airport_id} AND Reporting_Airline = '{airline}'\n",
    "        ) * 100 AS percentage\n",
    "        FROM flights\n",
    "        LEFT JOIN L_CANCELLATION\n",
    "        ON flights.CancellationCode = L_CANCELLATION.Code\n",
    "        WHERE OriginAirportID = {sf_airport_id} AND Reporting_Airline = '{airline}'\n",
    "        GROUP BY CancellationCode\n",
    "        ORDER BY percentage DESC        \n",
    "    \"\"\"\n",
    "\n",
    "    cancellation_causes= pd.concat([cancellation_causes, pd.read_sql(query, conn)])\n",
    "\n"
   ]
  },
  {
   "cell_type": "code",
   "execution_count": null,
   "metadata": {},
   "outputs": [],
   "source": [
    "# define figure size\n",
    "plt.figure(figsize=(10, 10))\n",
    "# make a barplot from the results of the query\n",
    "airl = [airl[0] for airl in cancelled_airlines]\n",
    "g=sns.barplot(\n",
    "    data=cancellation_causes,\n",
    "    x='percentage', \n",
    "    y='Reporting_Airline',\n",
    "    hue='Description',\n",
    "    # palette=[sns.color_palette()[0] if al!='AA' else sns.color_palette()[3] for al in airl]\n",
    ")\n",
    "# set title, x- and y-label\n",
    "# g.set_title(\"Percentage of cancelled flights per airline and cause\")\n",
    "g.set_xlabel(\"Cancelled flights in %\")\n",
    "g.set_ylabel(\"Airlines\")\n",
    "g.legend(title=\"Cause of Cancellation\");\n",
    "\n",
    "plt.savefig(\n",
    "        os.path.join(fig_path, f\"{f'0{fig_counter}'[-2:]}_percentage_cancelled_per_airline_and_cause\"), \n",
    "        dpi=res_dpi, \n",
    "        format=None, \n",
    "        metadata=None,\n",
    "        bbox_inches='tight', \n",
    "        pad_inches=0.1,\n",
    "        facecolor='auto', \n",
    "        edgecolor='auto',\n",
    "        backend=None\n",
    ")\n",
    "\n",
    "fig_counter += 1"
   ]
  },
  {
   "cell_type": "markdown",
   "metadata": {},
   "source": [
    "As this figure shows the airlines WN and OO had bad luck. Weather respectively National Air System caused a large share of their cancelled flights. </br>\n",
    "Focusing on American Airlines and carrier cancellations, one can say that AA should be able to reduce their amount of cancelled flights since three airlines were close to 0 % cancelled flights caused by the carrier. "
   ]
  },
  {
   "cell_type": "markdown",
   "metadata": {},
   "source": [
    "# American Airlines"
   ]
  },
  {
   "cell_type": "markdown",
   "metadata": {},
   "source": [
    "Comming back to flight delays, to get an idea, how the performance of AA can be improved, patterns in delayed flights can help to find mechanisms to improve."
   ]
  },
  {
   "cell_type": "markdown",
   "metadata": {},
   "source": [
    "## Weekdays"
   ]
  },
  {
   "cell_type": "markdown",
   "metadata": {},
   "source": [
    "There could be repeating special events that impact daily business and increase the probability of delays."
   ]
  },
  {
   "cell_type": "code",
   "execution_count": null,
   "metadata": {},
   "outputs": [],
   "source": [
    "# make a dataframe with American Airlines flights only\n",
    "df_AA = df_sf_orig.loc[(df_sf_orig[\"Reporting_Airline\"]==\"AA\")]\n",
    "# add a counter that helpful for grouping\n",
    "df_AA[\"counter\"] = 1\n",
    "# add a counter that counts carrier delays after grouping\n",
    "df_AA[\"delay_counter\"] = (df_AA[\"CarrierDelay\"]!=0) & (~df_AA[\"CarrierDelay\"].isna())"
   ]
  },
  {
   "cell_type": "code",
   "execution_count": null,
   "metadata": {},
   "outputs": [],
   "source": [
    "def make_double_delay_plot(df: pd.DataFrame, suptitle: str, x_col: str, plot_type=\"bar\", xticklabels_rot: int = 0, x_encoding: list = None):\n",
    "    \"\"\"Generates a two part plot with delayed flights and average delay per flight.\n",
    "\n",
    "    Args:\n",
    "        df (pd.DataFrame): Dataframe that holds the data to plot.\n",
    "        suptitle (str): Title of the plot.\n",
    "        x_col (str): Data for the x-axis.\n",
    "        xticklabels_rot (int, optional): Degree of rotation of x-tick-labels. Defaults to 0.\n",
    "        x_encoding (list, optional): Encoding of x tick values. If None default will be used. Defaults to None.\n",
    "    \"\"\"\n",
    "    # make a figure with tow subplots\n",
    "    fig, ax = plt.subplots(1, 2, figsize=(10, 5))\n",
    "\n",
    "    # use two barplots for those\n",
    "    if plot_type == \"bar\":\n",
    "        sns.barplot(\n",
    "            x=df[x_col], \n",
    "            y=df[\"delay_counter\"] / df[\"counter\"] * 100, \n",
    "            color=sns.color_palette()[0],\n",
    "            ax=ax[0]\n",
    "        )\n",
    "        sns.barplot(\n",
    "            x=df[x_col], \n",
    "            y=df[\"CarrierDelay\"] / df[\"counter\"], \n",
    "            color=sns.color_palette()[0],\n",
    "            ax=ax[1]\n",
    "        )\n",
    "\n",
    "    if plot_type == \"line\":\n",
    "        sns.lineplot(\n",
    "            x=df[x_col], \n",
    "            y=df[\"delay_counter\"] / df[\"counter\"] * 100, \n",
    "            color=sns.color_palette()[0],\n",
    "            ax=ax[0]\n",
    "        )\n",
    "        sns.lineplot(\n",
    "            x=df[x_col], \n",
    "            y=df[\"CarrierDelay\"] / df[\"counter\"], \n",
    "            color=sns.color_palette()[0],\n",
    "            ax=ax[1]\n",
    "        )\n",
    "\n",
    "    # set x-labels and x-tick-labels for both plots\n",
    "    for i in range(2):\n",
    "        ax[i].set_xlabel(\"\")\n",
    "        # encode x tick values if necessary \n",
    "        if x_encoding:\n",
    "            ax[i].set_xticklabels(\n",
    "                [encoded[1] for encoded in x_encoding][:len(ax[i].get_xticklabels())], \n",
    "            )\n",
    "        # rotate x tick labels if necessary\n",
    "        if xticklabels_rot:\n",
    "            ax[i].set_xticklabels(\n",
    "                ax[i].get_xticklabels(), \n",
    "                rotation=xticklabels_rot, \n",
    "                ha=\"right\",\n",
    "                rotation_mode=\"anchor\",\n",
    "            )\n",
    "\n",
    "    # set y-labels individually\n",
    "    ax[0].set_ylabel(\"Delayed Flights in %\")\n",
    "    ax[1].set_ylabel(\"Average Delay in minutes\")\n",
    "\n",
    "    # set supertitle for the plot\n",
    "    plt.suptitle(suptitle, fontsize = 20)\n",
    "\n",
    "    # show figure\n",
    "    # plt.show()"
   ]
  },
  {
   "cell_type": "code",
   "execution_count": null,
   "metadata": {},
   "outputs": [],
   "source": [
    "# group data by day of week\n",
    "df_AA_grouped_DayOfWeek = df_AA.groupby(\"DayOfWeek\").sum().reset_index()\n"
   ]
  },
  {
   "cell_type": "code",
   "execution_count": null,
   "metadata": {},
   "outputs": [],
   "source": [
    "# get weekday encoding from the database\n",
    "query = f\"\"\"\n",
    "    SELECT Code, Description AS Weekday\n",
    "    FROM L_WEEKDAYS    \n",
    "\"\"\"\n",
    "crsr.execute(query)\n",
    "weekdays_encoding = crsr.fetchall()\n"
   ]
  },
  {
   "cell_type": "code",
   "execution_count": null,
   "metadata": {},
   "outputs": [],
   "source": [
    "# make a figure showing delayed flights and average delay per weekday\n",
    "make_double_delay_plot(df_AA_grouped_DayOfWeek, \"\", \"DayOfWeek\", plot_type=\"bar\", xticklabels_rot=60, x_encoding=weekdays_encoding)\n",
    "# \"Carrier Flight Delays of American Airlines per Weekday\"\n",
    "\n",
    "plt.savefig(\n",
    "        os.path.join(fig_path, f\"{f'0{fig_counter}'[-2:]}_aa_carrier_delay_per_weekday\"), \n",
    "        dpi=res_dpi, \n",
    "        format=None, \n",
    "        metadata=None,\n",
    "        bbox_inches='tight', \n",
    "        pad_inches=0.1,\n",
    "        facecolor='auto', \n",
    "        edgecolor='auto',\n",
    "        backend=None\n",
    ")\n",
    "\n",
    "fig_counter += 1"
   ]
  },
  {
   "cell_type": "markdown",
   "metadata": {},
   "source": [
    "* There are only slight differences in delay flights per weekday. The probability of delayed flights is slightly higher on Mondays, Thursdays and Fridays. \n",
    "* The average delay is around seven minutes on Mondays and Fridays, but only five minutes on the other days.\n",
    "* Combining those information, one can say that on Mondays and Fridays the probability of flights being delayed is increased as well as the the delay length. </br>\n",
    "Obviously those are the days before and after weekend. Therefore, there could be a relationship, e.g. \n",
    "    * There could be more holiday travellers and less business travellers on those days. Business travellers know the procedures very well. Therefore, there could be less delay caused by the customers themselves on weekdays.\n",
    "    * There could be more customers right before and after weekend. Common trips could be from Monday to Friday, Friday to Sunday/Monday, because that often fits in well for people who are working, either for business trips as well as for private travels."
   ]
  },
  {
   "cell_type": "markdown",
   "metadata": {},
   "source": [
    "## Month"
   ]
  },
  {
   "cell_type": "code",
   "execution_count": null,
   "metadata": {},
   "outputs": [],
   "source": [
    "# group data by month\n",
    "df_AA_grouped_month = df_AA.groupby(\"Month\").sum().reset_index()\n",
    "df_AA_grouped_month"
   ]
  },
  {
   "cell_type": "code",
   "execution_count": null,
   "metadata": {},
   "outputs": [],
   "source": [
    "# get month encoding from the database\n",
    "query = f\"\"\"\n",
    "    SELECT Code, Description AS Month\n",
    "    FROM L_Months    \n",
    "\"\"\"\n",
    "crsr.execute(query)\n",
    "months_encoding = crsr.fetchall()"
   ]
  },
  {
   "cell_type": "code",
   "execution_count": null,
   "metadata": {},
   "outputs": [],
   "source": [
    "# make a figure showing delayed flights and average delay per month\n",
    "make_double_delay_plot(df_AA_grouped_month, \"\", \"Month\", \"bar\", 60, months_encoding)\n",
    "# \"Carrier Flight Delays of American Airlines per Month\"\n",
    "\n",
    "plt.savefig(\n",
    "        os.path.join(fig_path, f\"{f'0{fig_counter}'[-2:]}_aa_carrier_delay_per_month\"), \n",
    "        dpi=res_dpi, \n",
    "        format=None, \n",
    "        metadata=None,\n",
    "        bbox_inches='tight', \n",
    "        pad_inches=0.1,\n",
    "        facecolor='auto', \n",
    "        edgecolor='auto',\n",
    "        backend=None\n",
    ")\n",
    "\n",
    "fig_counter += 1"
   ]
  },
  {
   "cell_type": "markdown",
   "metadata": {},
   "source": [
    "The share of delayed flights seems not to show tendencies over the year. However, September and December show an increased amount of flight delays. </br>\n",
    "However, the average delay increased over the year, with a noticeable peek in September. </br>\n",
    "To really say, if there are any tendencies and by what they are caused, deeper insights into the processes are necessary, e.g. staff, customers, amount of travelling people, and more details about the process as a whole."
   ]
  },
  {
   "cell_type": "markdown",
   "metadata": {},
   "source": [
    "## Destination Airport"
   ]
  },
  {
   "cell_type": "markdown",
   "metadata": {},
   "source": [
    "Lastly, we can have a look at the destination airports and see if there any patterns."
   ]
  },
  {
   "cell_type": "code",
   "execution_count": null,
   "metadata": {},
   "outputs": [],
   "source": [
    "# get airport encoding from database\n",
    "query = f\"\"\"\n",
    "    SELECT AirportID, Airport AS DestAirport\n",
    "    FROM airports    \n",
    "\"\"\"\n",
    "\n",
    "df_airport_encoding = pd.read_sql(\n",
    "    query,\n",
    "    conn\n",
    ")"
   ]
  },
  {
   "cell_type": "code",
   "execution_count": null,
   "metadata": {},
   "outputs": [],
   "source": [
    "# group data by Destination Airport\n",
    "df_AA_grouped_dest = df_AA.groupby(\"DestAirportID\").sum().reset_index()\n",
    "df_AA_grouped_dest = df_AA_grouped_dest.merge(df_airport_encoding, left_on=\"DestAirportID\", right_on=\"AirportID\")"
   ]
  },
  {
   "cell_type": "code",
   "execution_count": null,
   "metadata": {},
   "outputs": [],
   "source": [
    "# make a figure showing delayed flights and average delay per destination airport\n",
    "make_double_delay_plot(df_AA_grouped_dest, \"\", \"DestAirport\", xticklabels_rot=60)\n",
    "# \"Flight Delays of American Airlines per Destination\"\n",
    "\n",
    "plt.savefig(\n",
    "        os.path.join(fig_path, f\"{f'0{fig_counter}'[-2:]}_aa_carrier_delay_per_destination\"), \n",
    "        dpi=res_dpi, \n",
    "        format=None, \n",
    "        metadata=None,\n",
    "        bbox_inches='tight', \n",
    "        pad_inches=0.1,\n",
    "        facecolor='auto', \n",
    "        edgecolor='auto',\n",
    "        backend=None\n",
    ")\n",
    "\n",
    "fig_counter += 1"
   ]
  },
  {
   "cell_type": "markdown",
   "metadata": {},
   "source": [
    "There are only slight differences between the destination airports. However, JFK shows the least share of delayed flights , but the longetst delays. "
   ]
  },
  {
   "cell_type": "code",
   "execution_count": null,
   "metadata": {},
   "outputs": [],
   "source": [
    "# Close cursor and connection\n",
    "crsr.close()\n",
    "conn.close()"
   ]
  },
  {
   "cell_type": "markdown",
   "metadata": {},
   "source": [
    "# Conclusion\n",
    "In conclusion, it seems that American Airlines can improve their performance regarding delays as well as cancellations. Some of their competitors have higher rates of delays and longer delays on average. However, there are also competitors with less and shorter delays at the same time as well less cancellations. A deeper understanding of the relevant processes and analysis of the competitors is necessary to find ways to improve those points. </br></br>\n",
    "Additionally, there are first hints where to look for improvements. The rate of delays is increased on Mondays and Fridays. Therefore, an analysis is necessary to find differences of those days compared to others. Furthermore, the rate of delayed flights and average delay length is increased in September and also relatively high in December. Of the destination airports JFK airport has the lowest rate of delays, but the highest average delay length. Further inverstigations on this could also reveal ideas how to improve performance. </br></br>\n",
    "As mentioned before, further investigations are necessary to find mechanisms to improve the delay and cancellation performance of American Airlines. Data of the customers, aircrafts, staff could help in this case. Additionally, processes of competitors could be analyzed as far as possible, especially of those with low delay rates and short delay durations. "
   ]
  },
  {
   "cell_type": "markdown",
   "metadata": {},
   "source": [
    "# Export Report\n",
    "https://nbconvert.readthedocs.io/en/latest/install.html"
   ]
  },
  {
   "cell_type": "code",
   "execution_count": null,
   "metadata": {},
   "outputs": [],
   "source": [
    "# !jupyter nbconvert descriptive_statistics.ipynb --to pdf"
   ]
  },
  {
   "cell_type": "code",
   "execution_count": null,
   "metadata": {},
   "outputs": [],
   "source": []
  }
 ],
 "metadata": {
  "interpreter": {
   "hash": "43f5256882f9219c7920115027965180e1c604ffcb336a74fc17684e0252d958"
  },
  "kernelspec": {
   "display_name": "Python 3.9.4 ('.venv': venv)",
   "language": "python",
   "name": "python3"
  },
  "language_info": {
   "codemirror_mode": {
    "name": "ipython",
    "version": 3
   },
   "file_extension": ".py",
   "mimetype": "text/x-python",
   "name": "python",
   "nbconvert_exporter": "python",
   "pygments_lexer": "ipython3",
   "version": "3.9.4"
  },
  "orig_nbformat": 4
 },
 "nbformat": 4,
 "nbformat_minor": 2
}
